{
 "cells": [
  {
   "cell_type": "code",
   "execution_count": 2,
   "id": "e6c32733-763e-4fb5-8d47-4c010d9cc341",
   "metadata": {},
   "outputs": [],
   "source": [
    "import numpy as np\n",
    "import pandas as pd"
   ]
  },
  {
   "cell_type": "code",
   "execution_count": 2,
   "id": "f1c92890-666e-4545-9440-6267239a394a",
   "metadata": {},
   "outputs": [],
   "source": [
    "####version 3 of dataframe,same as 2 but encoding late a quartile, aslso including arr_dely"
   ]
  },
  {
   "cell_type": "code",
   "execution_count": 3,
   "id": "dd031373-4fdb-4721-ad81-df6740bf9222",
   "metadata": {},
   "outputs": [],
   "source": [
    "from sqlalchemy import create_engine\n",
    "# Postgres username, password, and database name\n",
    "POSTGRES_ADDRESS = 'lhl-data-bootcamp.crzjul5qln0e.ca-central-1.rds.amazonaws.com' ## INSERT YOUR DB ADDRESS IF IT'S NOT ON PANOPLY\n",
    "POSTGRES_PORT = '5432'\n",
    "POSTGRES_USERNAME = 'lhl_student' ## CHANGE THIS TO YOUR PANOPLY/POSTGRES USERNAME\n",
    "POSTGRES_PASSWORD = 'lhl_student' ## CHANGE THIS TO YOUR PANOPLY/POSTGRES PASSWORD\n",
    "POSTGRES_DBNAME = 'mid_term_project' ## CHANGE THIS TO YOUR DATABASE NAME\n",
    "# A long string that contains the necessary Postgres login information\n",
    "postgres_str = ('postgresql://{username}:{password}@{ipaddress}:{port}/{dbname}'.format(username=POSTGRES_USERNAME,password=POSTGRES_PASSWORD,ipaddress=POSTGRES_ADDRESS,port=POSTGRES_PORT,dbname=POSTGRES_DBNAME))\n",
    "# Create the connection\n",
    "cnx = create_engine(postgres_str)"
   ]
  },
  {
   "cell_type": "code",
   "execution_count": null,
   "id": "9fe39088-25fd-4725-8295-4460229db53c",
   "metadata": {},
   "outputs": [],
   "source": [
    "full = pd.read_sql_query('''DROP TABLE IF EXISTS flight_subset;\n",
    "DROP TABLE IF EXISTS passenger_subset;\n",
    "\n",
    "SELECT AVG(arr_delay) AS avg_arr_delay, op_unique_carrier, AVG(dep_delay) AS avg_dep_delay, CONCAT(flights.origin_airport_id, '-', flights.dest_airport_id) AS route, SUBSTRING(fl_date, 6, 2) AS month, SUBSTRING(fl_date, 1, 4) AS year\n",
    "INTO TABLE flight_subset\n",
    "FROM flights\n",
    "WHERE diverted != 1.0\n",
    "GROUP BY route, month, year, op_unique_carrier;\n",
    "\n",
    "ALTER TABLE flight_subset ALTER COLUMN month TYPE BIGINT USING(month::bigint), ALTER COLUMN year TYPE BIGINT USING (year::bigint);\n",
    "\n",
    "SELECT departures_scheduled, departures_performed, seats, passengers, freight, mail, aircraft_group, aircraft_type, unique_carrier, region, origin_airport_id, dest_airport_id, CONCAT(origin_airport_id, '-', dest_airport_id) AS route, month, year, distance\n",
    "INTO TABLE passenger_subset\n",
    "FROM passengers;\n",
    "\n",
    "SELECT MAX(avg_arr_delay) AS avg_arr_delay, passenger_subset.route, passenger_subset.month, passenger_subset.year, unique_carrier, MAX(avg_dep_delay) AS avg_dep_delay, MAX(departures_scheduled) AS departures_scheduled, MAX(departures_performed) AS departures_performed, MAX(seats) AS seats, MAX(passengers) AS passengers, MAX(freight) AS freight, MAX(mail) AS mail, MAX(aircraft_group) AS aircraft_group, MAX(aircraft_type) AS aircraft_type, MAX(region) AS region, MAX(passenger_subset.origin_airport_id) AS origin_airport_id, MAX(passenger_subset.dest_airport_id) AS dest_airport_id, MAX(distance) AS distance\n",
    "FROM flight_subset JOIN passenger_subset ON (flight_subset.route = passenger_subset.route AND op_unique_carrier = unique_carrier AND flight_subset.month = passenger_subset.month AND flight_subset.year = passenger_subset.year)\n",
    "GROUP BY passenger_subset.route, passenger_subset.month, passenger_subset.year, unique_carrier;''',cnx)"
   ]
  },
  {
   "cell_type": "code",
   "execution_count": null,
   "id": "0a957212-ca97-43c9-935d-393a33b8b360",
   "metadata": {},
   "outputs": [],
   "source": [
    "full"
   ]
  },
  {
   "cell_type": "code",
   "execution_count": null,
   "id": "5ab0dd59-48d8-46c8-bd1e-6f63cbc3d9ef",
   "metadata": {},
   "outputs": [],
   "source": [
    "full = full.dropna()"
   ]
  },
  {
   "cell_type": "code",
   "execution_count": null,
   "id": "069e1b62-4227-46fa-9d68-22a8faaf7605",
   "metadata": {},
   "outputs": [],
   "source": [
    "full"
   ]
  },
  {
   "cell_type": "code",
   "execution_count": null,
   "id": "6cad6200-0ca4-4d29-af39-6dfb159c905a",
   "metadata": {},
   "outputs": [],
   "source": [
    "full.nunique()"
   ]
  },
  {
   "cell_type": "code",
   "execution_count": null,
   "id": "30c12ffd-1b19-4199-a589-ed28bc383322",
   "metadata": {},
   "outputs": [],
   "source": [
    "full[\"avg_arr_delay\"].head()"
   ]
  },
  {
   "cell_type": "code",
   "execution_count": null,
   "id": "e9bb0f6c-beb3-4fce-9227-f222efefe884",
   "metadata": {},
   "outputs": [],
   "source": [
    "full"
   ]
  },
  {
   "cell_type": "code",
   "execution_count": null,
   "id": "cd779942-b4d6-412c-8c71-998276bdcbe6",
   "metadata": {},
   "outputs": [],
   "source": [
    "full[\"avg_arr_delay\"].head()"
   ]
  },
  {
   "cell_type": "code",
   "execution_count": null,
   "id": "1f17c05b-72b6-4e63-a77a-24d73cb07d73",
   "metadata": {},
   "outputs": [],
   "source": [
    "full[\"avg_arr_delay\"].quantile(q=[.1, .2, .3, .4, .5, .6, .7, .8, .9, 1])"
   ]
  },
  {
   "cell_type": "code",
   "execution_count": null,
   "id": "e21a9231-dc0f-42f2-9119-9d51b8450ab3",
   "metadata": {},
   "outputs": [],
   "source": [
    "full[\"avg_arr_delay\"] = pd.qcut(full[\"avg_dep_delay\"], 10, [0,1,2,3,4,5,6,7,8,9])"
   ]
  },
  {
   "cell_type": "code",
   "execution_count": null,
   "id": "2cb9fac3-727e-4487-9907-4b737f2ccf46",
   "metadata": {},
   "outputs": [],
   "source": [
    "full"
   ]
  },
  {
   "cell_type": "code",
   "execution_count": null,
   "id": "e0dcfa6f-2712-4965-9a46-299b389f1417",
   "metadata": {},
   "outputs": [],
   "source": [
    "full.isnull().nunique()"
   ]
  },
  {
   "cell_type": "code",
   "execution_count": null,
   "id": "b214de1e-e1b2-4e2f-811f-2da64fb357f8",
   "metadata": {},
   "outputs": [],
   "source": [
    "mo = pd.get_dummies(full[\"month\"], prefix = \"Month\")"
   ]
  },
  {
   "cell_type": "code",
   "execution_count": null,
   "id": "d584bf63-40c4-4e47-aad8-66c3bf78da18",
   "metadata": {},
   "outputs": [],
   "source": [
    "ye =pd.get_dummies(full[\"year\"], prefix = \"year\")"
   ]
  },
  {
   "cell_type": "code",
   "execution_count": null,
   "id": "be655043-62c6-4dc5-87e5-778e9c178318",
   "metadata": {},
   "outputs": [],
   "source": []
  },
  {
   "cell_type": "code",
   "execution_count": null,
   "id": "73702abd-18b6-494e-94bc-15ab7bc56a9d",
   "metadata": {},
   "outputs": [],
   "source": [
    "opa = pd.get_dummies(full[\"unique_carrier\"], prefix = \"unique_carrier\")"
   ]
  },
  {
   "cell_type": "code",
   "execution_count": null,
   "id": "9c6f3bf3-f3a8-4078-9246-b202875c7396",
   "metadata": {},
   "outputs": [],
   "source": [
    "ag = pd.get_dummies(full[\"aircraft_group\"], prefix = \"aircraft_group\")"
   ]
  },
  {
   "cell_type": "code",
   "execution_count": null,
   "id": "7171c2d4-4a5e-4168-b02a-f426c82e9c19",
   "metadata": {},
   "outputs": [],
   "source": [
    "at = pd.get_dummies(full[\"aircraft_type\"], prefix = \"aircraft_type\")"
   ]
  },
  {
   "cell_type": "code",
   "execution_count": null,
   "id": "8b562a74-b7a8-4b1e-88a1-2763acb7c98b",
   "metadata": {},
   "outputs": [],
   "source": []
  },
  {
   "cell_type": "code",
   "execution_count": null,
   "id": "feff74ba-c6c9-462a-b7aa-30cafdd99bd5",
   "metadata": {},
   "outputs": [],
   "source": [
    "re = pd.get_dummies(full[\"region\"], prefix = \"Region\")"
   ]
  },
  {
   "cell_type": "code",
   "execution_count": null,
   "id": "523d55cf-cbc5-4c34-8597-cd3efd81f87b",
   "metadata": {},
   "outputs": [],
   "source": [
    "oai = pd.get_dummies(full[\"origin_airport_id\"], prefix = \"origin_airport_id\")"
   ]
  },
  {
   "cell_type": "code",
   "execution_count": null,
   "id": "42bf2188-3265-4e24-8c5b-846bb17bab1e",
   "metadata": {},
   "outputs": [],
   "source": [
    "dai = pd.get_dummies(full[\"dest_airport_id\"], prefix = \"dest_airport_id\")"
   ]
  },
  {
   "cell_type": "code",
   "execution_count": null,
   "id": "8efe6d70-0a74-476b-b70b-3ba1b84a1af8",
   "metadata": {},
   "outputs": [],
   "source": [
    "full = pd.concat([full,mo,ye,opa,ag,at,re,oai,dai], axis=1)"
   ]
  },
  {
   "cell_type": "code",
   "execution_count": null,
   "id": "b3106b79-86bd-451e-a9c6-ff3a18a78b68",
   "metadata": {},
   "outputs": [],
   "source": [
    "full"
   ]
  },
  {
   "cell_type": "code",
   "execution_count": null,
   "id": "46b71252-3546-4cb3-a9bb-d5f7eaf753ef",
   "metadata": {},
   "outputs": [],
   "source": [
    "full = full.drop(columns=[\"avg_dep_delay\",\"month\",\"year\",\"route\", \"unique_carrier\", \"aircraft_group\",\"aircraft_type\", \"region\", \"origin_airport_id\",\"dest_airport_id\"])"
   ]
  },
  {
   "cell_type": "code",
   "execution_count": null,
   "id": "3f39de5e-baaf-4ac2-83b8-5dcf9a907c80",
   "metadata": {},
   "outputs": [],
   "source": [
    "full"
   ]
  },
  {
   "cell_type": "code",
   "execution_count": null,
   "id": "09453d77-1abe-4117-9bef-464e52790a05",
   "metadata": {},
   "outputs": [],
   "source": [
    "from sklearn.preprocessing import MinMaxScaler\n",
    "minmax = MinMaxScaler()\n",
    "# cols = ['avg_dep_delay', 'departures_scheduled', 'departures_performed', 'seats', 'passengers', 'freight', 'mail', 'distance']\n",
    "# numeric = full[cols].copy()\n",
    "# numeric = pd.DataFrame(minmax.fit_transform(numeric), columns=cols)\n",
    "# full.drop(columns=cols, inplace=True)\n",
    "# full.join(numeric)\n",
    "# full.drop(columns=cols)"
   ]
  },
  {
   "cell_type": "code",
   "execution_count": null,
   "id": "89f16dec-1988-40e1-b06b-cfdcb407bd55",
   "metadata": {},
   "outputs": [],
   "source": [
    "cols = ['departures_scheduled', 'departures_performed', 'seats', 'passengers', 'freight', 'mail', 'distance']\n",
    "cols_scaled = [s + \"_scaled\" for s in cols]\n",
    "minmax = MinMaxScaler()\n",
    "full[cols_scaled] = minmax.fit_transform(full[cols])"
   ]
  },
  {
   "cell_type": "code",
   "execution_count": null,
   "id": "8f3ee464-d7bc-4c46-8f78-88bdbe8d1deb",
   "metadata": {},
   "outputs": [],
   "source": [
    "full"
   ]
  },
  {
   "cell_type": "code",
   "execution_count": null,
   "id": "198c943b-b53b-4991-a639-985e24419cac",
   "metadata": {},
   "outputs": [],
   "source": [
    "full = full.drop(columns=['departures_scheduled', 'departures_performed', 'seats', 'passengers', 'freight', 'mail', 'distance'])"
   ]
  },
  {
   "cell_type": "code",
   "execution_count": null,
   "id": "9ba73b3d-2fb0-4382-b210-5afe7e240f87",
   "metadata": {},
   "outputs": [],
   "source": [
    "full"
   ]
  },
  {
   "cell_type": "code",
   "execution_count": null,
   "id": "7c83fcf7-b57c-4d12-86f1-786e7dde455b",
   "metadata": {},
   "outputs": [],
   "source": [
    "#full.to_csv(\"dfversion3.csv\", index=False)"
   ]
  },
  {
   "cell_type": "code",
   "execution_count": null,
   "id": "ba9b2ae3-56b7-4c3f-a5ac-49db8b9eb96f",
   "metadata": {},
   "outputs": [],
   "source": []
  },
  {
   "cell_type": "code",
   "execution_count": null,
   "id": "22dc7472-116a-4249-aced-5d049069d1a2",
   "metadata": {},
   "outputs": [],
   "source": []
  }
 ],
 "metadata": {
  "kernelspec": {
   "display_name": "Python 3 (ipykernel)",
   "language": "python",
   "name": "python3"
  },
  "language_info": {
   "codemirror_mode": {
    "name": "ipython",
    "version": 3
   },
   "file_extension": ".py",
   "mimetype": "text/x-python",
   "name": "python",
   "nbconvert_exporter": "python",
   "pygments_lexer": "ipython3",
   "version": "3.9.12"
  }
 },
 "nbformat": 4,
 "nbformat_minor": 5
}
